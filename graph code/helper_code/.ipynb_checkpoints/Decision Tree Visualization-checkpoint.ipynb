{
 "cells": [
  {
   "cell_type": "code",
   "execution_count": 142,
   "metadata": {
    "collapsed": false
   },
   "outputs": [
    {
     "name": "stdout",
     "output_type": "stream",
     "text": [
      "Automatically created module for IPython interactive environment\n"
     ]
    }
   ],
   "source": [
    "%matplotlib inline\n",
    "import matplotlib.pyplot as plt\n",
    "from mpl_toolkits.mplot3d import Axes3D\n",
    "from sklearn import datasets\n",
    "from sklearn.decomposition import PCA\n",
    "from prettytable import PrettyTable\n",
    "from sklearn.cross_validation import train_test_split\n",
    "import numpy as np\n",
    "from sklearn.metrics import roc_curve, auc,roc_auc_score,f1_score,confusion_matrix\n",
    "print (__doc__)"
   ]
  },
  {
   "cell_type": "code",
   "execution_count": 143,
   "metadata": {
    "collapsed": false
   },
   "outputs": [],
   "source": [
    "filename=\"apnea_clean_1.csv\"\n",
    "f = open(filename)\n",
    "f.readline()\n",
    "data = np.loadtxt(fname = f, delimiter = ',',dtype='double')\n",
    "Y = data[:,0]\n",
    "X = data[:, 1:data.shape[1]-1]\n",
    "\n",
    "# Reading the labels now\n",
    "f= open(filename)\n",
    "labels_=np.loadtxt(fname=f,delimiter=',',dtype='string')\n",
    "labels_=labels_[0,1:]"
   ]
  },
  {
   "cell_type": "code",
   "execution_count": 144,
   "metadata": {
    "collapsed": false,
    "scrolled": false
   },
   "outputs": [
    {
     "name": "stdout",
     "output_type": "stream",
     "text": [
      "X:  [[   1.   70.  172. ...,    2.    2.    2.]\n",
      " [   0.   69.  148. ...,    3.    1.    1.]\n",
      " [   1.   66.  152. ...,    2.    1.    2.]\n",
      " ..., \n",
      " [   1.   65.  154. ...,    4.    4.    2.]\n",
      " [   1.   54.  150. ...,    2.    3.    2.]\n",
      " [   0.   70.  153. ...,    3.    3.    3.]]\n",
      "Y:  [ 2.  2.  2.  2.  2.  2.  2.  2.  2.  2.  2.  2.  2.  2.  2.  2.  2.  2.\n",
      "  2.  2.  2.  2.  2.  2.  2.  2.  2.  2.  2.  2.  2.  2.  2.  2.  2.  2.\n",
      "  2.  2.  2.  2.  2.  2.  2.  2.  2.  2.  2.  2.  2.  2.  2.  2.  2.  2.\n",
      "  2.  2.  2.  2.  2.  2.  2.  2.  2.  2.  2.  2.  2.  2.  2.  2.  3.  3.\n",
      "  3.  3.  3.  3.  3.  3.  3.  3.  3.  3.  3.  3.  3.  3.  3.  3.  3.  3.\n",
      "  3.  3.  3.  3.  3.  3.  3.  3.  3.  3.  3.  3.  3.  3.  3.  3.  3.  3.\n",
      "  3.  3.  3.  3.  3.  3.  3.  3.  3.  3.  3.  3.  3.  3.  3.  3.  3.  3.\n",
      "  3.  3.  3.  3.  3.  3.  3.  3.  3.  3.]\n",
      "Feature Labels are:  ['Gender' 'Age_yrs' 'Height_cm' 'Weight_Kgs' 'BMI' 'DM' 'Family_HisCAD'\n",
      " 'Hyperlipidaemia' 'Smoking status' 'Albumin' 'Globulin' 'Total Proteins'\n",
      " 'Proteinuria_24Hrs' 'Urinary sodium' 'Plasma creatinine' 'Plasma sodium'\n",
      " 'Urinary creatinine' 'Fractional_Na' 'osmolality' 'SBP_3avg' 'DBP_3avg'\n",
      " 'PR_3avg' 'QTinterval_ms' 'QTc' 'VMA' 'LVEF' 'IVC' 'Mobility' 'Self Care '\n",
      " 'Usual Activity' 'Pain and Discomfort ' 'Vasopressin ']\n"
     ]
    }
   ],
   "source": [
    "print 'X: ',X\n",
    "print 'Y: ',Y\n",
    "print 'Feature Labels are: ',labels_"
   ]
  },
  {
   "cell_type": "code",
   "execution_count": 145,
   "metadata": {
    "collapsed": false
   },
   "outputs": [],
   "source": [
    "#Normalizing to Zero Mean Unit Variance\n",
    "mean = X.mean(axis=0)\n",
    "std = X.std(axis=0)\n",
    "X = (X - mean) / std"
   ]
  },
  {
   "cell_type": "code",
   "execution_count": 146,
   "metadata": {
    "collapsed": false
   },
   "outputs": [
    {
     "name": "stdout",
     "output_type": "stream",
     "text": [
      "X:  [[ 0.95681396  1.22517942  1.44528318 ..., -0.24355073 -0.11676423\n",
      "  -0.032721  ]\n",
      " [-1.04513525  1.12540433 -0.89586039 ...,  0.76017348 -1.17542655\n",
      "  -1.14523498]\n",
      " [ 0.95681396  0.82607906 -0.5056698  ..., -0.24355073 -1.17542655\n",
      "  -0.032721  ]\n",
      " ..., \n",
      " [ 0.95681396  0.72630397 -0.3105745  ...,  1.76389768  2.00056043\n",
      "  -0.032721  ]\n",
      " [ 0.95681396 -0.37122203 -0.70076509 ..., -0.24355073  0.9418981  -0.032721  ]\n",
      " [-1.04513525  1.22517942 -0.40812215 ...,  0.76017348  0.9418981\n",
      "   1.07979299]]\n",
      "Y:  [ 2.  2.  2.  2.  2.  2.  2.  2.  2.  2.  2.  2.  2.  2.  2.  2.  2.  2.\n",
      "  2.  2.  2.  2.  2.  2.  2.  2.  2.  2.  2.  2.  2.  2.  2.  2.  2.  2.\n",
      "  2.  2.  2.  2.  2.  2.  2.  2.  2.  2.  2.  2.  2.  2.  2.  2.  2.  2.\n",
      "  2.  2.  2.  2.  2.  2.  2.  2.  2.  2.  2.  2.  2.  2.  2.  2.  3.  3.\n",
      "  3.  3.  3.  3.  3.  3.  3.  3.  3.  3.  3.  3.  3.  3.  3.  3.  3.  3.\n",
      "  3.  3.  3.  3.  3.  3.  3.  3.  3.  3.  3.  3.  3.  3.  3.  3.  3.  3.\n",
      "  3.  3.  3.  3.  3.  3.  3.  3.  3.  3.  3.  3.  3.  3.  3.  3.  3.  3.\n",
      "  3.  3.  3.  3.  3.  3.  3.  3.  3.  3.]\n"
     ]
    }
   ],
   "source": [
    "print 'X: ',X\n",
    "print 'Y: ',Y"
   ]
  },
  {
   "cell_type": "markdown",
   "metadata": {
    "collapsed": false
   },
   "source": [
    "#X_train, X_test, y_train, y_test = train_test_split(X, Y, test_size=.3)"
   ]
  },
  {
   "cell_type": "markdown",
   "metadata": {},
   "source": [
    "### Defining Function to plot Confusion matrix "
   ]
  },
  {
   "cell_type": "code",
   "execution_count": 147,
   "metadata": {
    "collapsed": true
   },
   "outputs": [],
   "source": [
    "class_labels_=np.array(['Group 2','Group 3'])\n",
    "def plot_confusion_matrix(cm, title='Confusion matrix', cmap=plt.cm.Blues):\n",
    "    plt.imshow(cm, interpolation='nearest', cmap=cmap)\n",
    "    plt.title(title)\n",
    "    plt.colorbar()\n",
    "    tick_marks = np.arange(len(class_labels_))\n",
    "    plt.xticks(tick_marks,class_labels_, rotation=45)\n",
    "    plt.yticks(tick_marks,class_labels_)\n",
    "    plt.tight_layout()\n",
    "    plt.ylabel('True label')\n",
    "    plt.xlabel('Predicted label')"
   ]
  },
  {
   "cell_type": "code",
   "execution_count": 148,
   "metadata": {
    "collapsed": false
   },
   "outputs": [
    {
     "data": {
      "text/plain": [
       "\"# Evaluation Methods here: Confusion Matrix, F1 Score\\nprint 'Decision Tree Classification Score: ',score\\ncm=confusion_matrix(y_test,y_predic)\\nprint '\\nConfusion Matrix: \\n',cm\\nnp.set_printoptions(precision=2)\\n# Normalize the confusion matrix by row (i.e by the number of samples in each class)\\ncm_normalized = cm.astype('float') / cm.sum(axis=1)[:, np.newaxis]\\nprint '\\nNormalized Confusion Matrix: \\n',(cm_normalized)\\nplt.figure()\\nplot_confusion_matrix(cm_normalized, title='Normalized confusion matrix')\\nplt.show()\\n\""
      ]
     },
     "execution_count": 148,
     "metadata": {},
     "output_type": "execute_result"
    }
   ],
   "source": [
    "from sklearn.datasets import load_iris\n",
    "from sklearn import ensemble\n",
    "clf = ensemble.RandomForestClassifier()\n",
    "clf = clf.fit(X,Y)\n",
    "#y_predic=clf.predict(X)\n",
    "\n",
    "\"\"\"# Evaluation Methods here: Confusion Matrix, F1 Score\n",
    "print 'Decision Tree Classification Score: ',score\n",
    "cm=confusion_matrix(y_test,y_predic)\n",
    "print '\\nConfusion Matrix: \\n',cm\n",
    "np.set_printoptions(precision=2)\n",
    "# Normalize the confusion matrix by row (i.e by the number of samples in each class)\n",
    "cm_normalized = cm.astype('float') / cm.sum(axis=1)[:, np.newaxis]\n",
    "print '\\nNormalized Confusion Matrix: \\n',(cm_normalized)\n",
    "plt.figure()\n",
    "plot_confusion_matrix(cm_normalized, title='Normalized confusion matrix')\n",
    "plt.show()\n",
    "\"\"\""
   ]
  },
  {
   "cell_type": "markdown",
   "metadata": {},
   "source": [
    "## Decision Tree Visualization"
   ]
  },
  {
   "cell_type": "markdown",
   "metadata": {
    "collapsed": false
   },
   "source": [
    "from sklearn.externals.six import StringIO  \n",
    "\n",
    "import pydotplus\n",
    "from IPython.display import Image  \n",
    "dot_data = StringIO()\n",
    "tree.export_graphviz(clf, out_file=dot_data,  \n",
    "                         feature_names=labels_,  \n",
    "                         class_names=class_labels_,  \n",
    "                         filled=True, rounded=True,  \n",
    "                         special_characters=True)  \n",
    "graph = pydotplus.graph_from_dot_data(dot_data.getvalue())  \n",
    "Image(graph.create_png()) "
   ]
  },
  {
   "cell_type": "code",
   "execution_count": 149,
   "metadata": {
    "collapsed": false
   },
   "outputs": [
    {
     "name": "stdout",
     "output_type": "stream",
     "text": [
      "['Gender' 'Age_yrs' 'Height_cm' 'Weight_Kgs' 'BMI' 'DM' 'Family_HisCAD'\n",
      " 'Hyperlipidaemia' 'Smoking status' 'Albumin' 'Globulin' 'Total Proteins'\n",
      " 'Proteinuria_24Hrs' 'Urinary sodium' 'Plasma creatinine' 'Plasma sodium'\n",
      " 'Urinary creatinine' 'Fractional_Na' 'osmolality' 'SBP_3avg' 'DBP_3avg'\n",
      " 'PR_3avg' 'QTinterval_ms' 'QTc' 'VMA' 'LVEF' 'IVC' 'Mobility' 'Self Care '\n",
      " 'Usual Activity' 'Pain and Discomfort ' 'Vasopressin ']\n"
     ]
    }
   ],
   "source": [
    "print labels_"
   ]
  },
  {
   "cell_type": "code",
   "execution_count": 150,
   "metadata": {
    "collapsed": false
   },
   "outputs": [
    {
     "data": {
      "image/png": "[encoded data removed]",
      "text/plain": [
       "<matplotlib.figure.Figure at 0x9978128>"
      ]
     },
     "metadata": {},
     "output_type": "display_data"
    }
   ],
   "source": [
    "importances = clf.feature_importances_\n",
    "indices = np.argsort(importances)\n",
    "plt.figure(figsize=(15,15))\n",
    "plt.title('Feature Importances')\n",
    "plt.barh(range(len(indices)), importances[indices], color='b', align='center')\n",
    "plt.yticks(range(len(indices)), labels_[indices])\n",
    "plt.xlabel('Relative Importance')\n",
    "plt.show()"
   ]
  },
  {
   "cell_type": "code",
   "execution_count": null,
   "metadata": {
    "collapsed": true
   },
   "outputs": [],
   "source": []
  }
 ],
 "metadata": {
  "kernelspec": {
   "display_name": "Python 2",
   "language": "python",
   "name": "python2"
  },
  "language_info": {
   "codemirror_mode": {
    "name": "ipython",
    "version": 2
   },
   "file_extension": ".py",
   "mimetype": "text/x-python",
   "name": "python",
   "nbconvert_exporter": "python",
   "pygments_lexer": "ipython2",
   "version": "2.7.12"
  }
 },
 "nbformat": 4,
 "nbformat_minor": 0
}
